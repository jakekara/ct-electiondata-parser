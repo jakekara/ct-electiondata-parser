{
 "cells": [
  {
   "cell_type": "code",
   "execution_count": 1,
   "metadata": {},
   "outputs": [],
   "source": [
    "import pandas as pd\n",
    "import json\n",
    "import os"
   ]
  },
  {
   "cell_type": "code",
   "execution_count": 2,
   "metadata": {},
   "outputs": [
    {
     "name": "stdout",
     "output_type": "stream",
     "text": [
      "These are the elections...\n",
      "35\t02/26/2019 -- Special Election 3rd, 5th & 6th Senatorial Districts and 39th & \n",
      "31\t11/06/2018 -- November 2018 State Election\n",
      "33\t08/14/2018 -- August 2018 Democratic Primary\n",
      "34\t08/14/2018 -- August 2018 Republican Primary\n",
      "18\t11/07/2017 -- November 2017 Municipal Election\n",
      "24\t04/25/2017 -- Special Election Assembly Districts 7th & 68th\n",
      "1\t11/08/2016 -- November Presidential Election\n"
     ]
    }
   ],
   "source": [
    "index = json.loads(open(\"data/index.json\").read())\n",
    "print (\"These are the elections...\")\n",
    "for e in index:\n",
    "    print (\"%s\\t%s\" % (e['ID'],e[\"Name\"]))"
   ]
  },
  {
   "cell_type": "code",
   "execution_count": 3,
   "metadata": {},
   "outputs": [
    {
     "data": {
      "text/plain": [
       "dict_keys(['election_data', 'lookup_data'])"
      ]
     },
     "execution_count": 3,
     "metadata": {},
     "output_type": "execute_result"
    }
   ],
   "source": [
    "def get_path(e_id, version=None):\n",
    "    path = os.path.join(\"data\", str(e_id))\n",
    "    \n",
    "    if version is not None:\n",
    "        path = os.path.join(\"data\", str(e_id), version)\n",
    "\n",
    "    return path\n",
    "\n",
    "def get_election_data(e_id, version=None):\n",
    "    \n",
    "    dir_path = get_path(e_id, version)\n",
    "    \n",
    "    return {\n",
    "        \"election_data\":json.loads(open(os.path.join(dir_path,\"Electiondata.json\")).read()),\n",
    "        \"lookup_data\":json.loads(open(os.path.join(dir_path,\"Lookupdata.json\")).read())\n",
    "    }\n",
    "        \n",
    "\n",
    "general_2018 = get_election_data(35)\n",
    "general_2018.keys()"
   ]
  },
  {
   "cell_type": "code",
   "execution_count": 4,
   "metadata": {},
   "outputs": [
    {
     "data": {
      "text/plain": [
       "dict_keys(['election', 'townIds', 'counties', 'countyTowns', 'pollingplaceIds', 'townPollingPlaces', 'officeList', 'partyIds', 'townParties', 'candidateIds'])"
      ]
     },
     "execution_count": 4,
     "metadata": {},
     "output_type": "execute_result"
    }
   ],
   "source": [
    "general_2018[\"lookup_data\"].keys()"
   ]
  },
  {
   "cell_type": "code",
   "execution_count": 5,
   "metadata": {},
   "outputs": [
    {
     "data": {
      "text/plain": [
       "dict_keys(['election', 'voterTurnout', 'townStatus', 'townVotes', 'stateVotes', 'reports', 'districts', 'officePrecincts'])"
      ]
     },
     "execution_count": 5,
     "metadata": {},
     "output_type": "execute_result"
    }
   ],
   "source": [
    "general_2018[\"election_data\"].keys()"
   ]
  },
  {
   "cell_type": "code",
   "execution_count": 6,
   "metadata": {},
   "outputs": [
    {
     "data": {
      "text/plain": [
       "{'ID': '35',\n",
       " 'BC': '29,967',\n",
       " 'PR': '65 of 65 (100%)',\n",
       " 'RV': '205,981',\n",
       " 'T': '12 of 12',\n",
       " 'PT': '0 of 12',\n",
       " 'TO': '14.55'}"
      ]
     },
     "execution_count": 6,
     "metadata": {},
     "output_type": "execute_result"
    }
   ],
   "source": [
    "general_2018[\"election_data\"][\"election\"]"
   ]
  },
  {
   "cell_type": "code",
   "execution_count": 7,
   "metadata": {},
   "outputs": [
    {
     "data": {
      "text/plain": [
       "{'IR': 'True', 'IO': 'False'}"
      ]
     },
     "execution_count": 7,
     "metadata": {},
     "output_type": "execute_result"
    }
   ],
   "source": [
    "general_2018[\"election_data\"][\"reports\"]"
   ]
  },
  {
   "cell_type": "code",
   "execution_count": 8,
   "metadata": {},
   "outputs": [
    {
     "data": {
      "text/plain": [
       "{'1': {'CD': 'D', 'NM': 'Democratic Party', 'P': '250'},\n",
       " '2': {'CD': 'C', 'NM': 'Conservative Party', 'P': '226'},\n",
       " '3': {'CD': 'IND', 'NM': 'Independent Party', 'P': '204'},\n",
       " '4': {'CD': 'NL', 'NM': 'Natural Law Party', 'P': '181'},\n",
       " '5': {'CD': 'INDP', 'NM': 'Independance Party', 'P': '159'},\n",
       " '6': {'CD': 'R', 'NM': 'Republican Party', 'P': '135'},\n",
       " '7': {'CD': 'G', 'NM': 'Green Party', 'P': '112'},\n",
       " '8': {'CD': 'LI', 'NM': 'Libertarian Party', 'P': '89'},\n",
       " '9': {'CD': 'RE', 'NM': 'Reform Party', 'P': '65'},\n",
       " '12': {'CD': 'WF', 'NM': 'Working Families Party', 'P': '22'},\n",
       " '15': {'CD': 'PC', 'NM': 'Petitioning Candidate', 'P': '0'},\n",
       " '1026': {'CD': 'WI', 'NM': 'Write In', 'P': '274'},\n",
       " '1045': {'CD': 'GFCT', 'NM': 'Griebel Frank for CT Party', 'P': '0'},\n",
       " '1046': {'CD': 'ACL', 'NM': 'Amigo Constitution Liberty Party', 'P': '0'}}"
      ]
     },
     "execution_count": 8,
     "metadata": {},
     "output_type": "execute_result"
    }
   ],
   "source": [
    "general_2018[\"lookup_data\"][\"partyIds\"]"
   ]
  },
  {
   "cell_type": "code",
   "execution_count": 9,
   "metadata": {},
   "outputs": [
    {
     "data": {
      "text/plain": [
       "{'ID': '35',\n",
       " 'NM': '02/26/2019 -- Special Election 3rd, 5th & 6th Senatorial Districts and 39th &',\n",
       " 'DT': '02/26/2019',\n",
       " 'ET': 'S',\n",
       " 'EC': 'SE',\n",
       " 'P': '',\n",
       " 'DNM': 'Special Election 3rd,5th &6th Senatorial - 39th & 99th Assembly Districts'}"
      ]
     },
     "execution_count": 9,
     "metadata": {},
     "output_type": "execute_result"
    }
   ],
   "source": [
    "general_2018[\"lookup_data\"][\"election\"]"
   ]
  },
  {
   "cell_type": "code",
   "execution_count": 10,
   "metadata": {},
   "outputs": [
    {
     "name": "stdout",
     "output_type": "stream",
     "text": [
      "None\n",
      "123\n"
     ]
    }
   ],
   "source": [
    "def set_cache_val(e_data, key, val):\n",
    "    \n",
    "    if \"__CACHE\" not in e_data:\n",
    "        e_data[\"__CACHE\"] = {}\n",
    "    \n",
    "    e_data[\"__CACHE\"][key] = val\n",
    "    \n",
    "def get_cache_val(e_data, key):\n",
    "    \n",
    "    try:\n",
    "        return e_data[\"__CACHE\"][key]\n",
    "    except:\n",
    "        return \n",
    "    \n",
    "\n",
    "print(get_cache_val(general_2018, \"LOL\"))\n",
    "set_cache_val(general_2018, \"LOL\", \"123\")\n",
    "print(get_cache_val(general_2018, \"LOL\"))\n"
   ]
  },
  {
   "cell_type": "code",
   "execution_count": 11,
   "metadata": {},
   "outputs": [
    {
     "data": {
      "text/plain": [
       "'Democratic Party'"
      ]
     },
     "execution_count": 11,
     "metadata": {},
     "output_type": "execute_result"
    }
   ],
   "source": [
    "def get_party_name(e_data, party_id):\n",
    "    \n",
    "    ck = \"party_id:%s\" % party_id\n",
    "    cv = get_cache_val(e_data, ck)\n",
    "    if cv is not None: return cv\n",
    "        \n",
    "    try:\n",
    "        ret = e_data[\"lookup_data\"][\"partyIds\"][str(party_id)][\"NM\"]\n",
    "    except:\n",
    "        ret = None\n",
    "        \n",
    "    set_cache_val(e_data, ck, ret)\n",
    "    \n",
    "    return ret\n",
    "\n",
    "get_party_name(general_2018, 1)"
   ]
  },
  {
   "cell_type": "code",
   "execution_count": 12,
   "metadata": {},
   "outputs": [
    {
     "data": {
      "text/plain": [
       "{'10054': {'NM': 'Saud Anwar',\n",
       "  'LN': 'Anwar',\n",
       "  'FN': 'Saud',\n",
       "  'MN': '',\n",
       "  'P': '1',\n",
       "  'AD': '93 Rockledge Drive, South Windsor, CT-06074',\n",
       "  'CO': '0'},\n",
       " '10055': {'NM': 'Sarah A. Muska',\n",
       "  'LN': 'Muska',\n",
       "  'FN': 'Sarah',\n",
       "  'MN': 'A.',\n",
       "  'P': '6',\n",
       "  'AD': '25 Maple Avenue, Broad Brook, CT-06016',\n",
       "  'CO': '0'},\n",
       " '10056': {'NM': 'Derek Slap',\n",
       "  'LN': 'Slap',\n",
       "  'FN': 'Derek',\n",
       "  'MN': '',\n",
       "  'P': '1',\n",
       "  'AD': '51 Fairlee Road, West Hartford, CT-06107',\n",
       "  'CO': '0'},\n",
       " '10057': {'NM': 'Bill Wadsworth',\n",
       "  'LN': 'Wadsworth',\n",
       "  'FN': 'Bill',\n",
       "  'MN': '',\n",
       "  'P': '6',\n",
       "  'AD': '23 Red Oak Hill Road, Farmington, CT-06032',\n",
       "  'CO': '0'},\n",
       " '10058': {'NM': 'Jeffrey F. Przech',\n",
       "  'LN': 'Przech',\n",
       "  'FN': 'Jeffrey',\n",
       "  'MN': 'F.',\n",
       "  'P': '3',\n",
       "  'AD': '12 Lake Garda Drive, Farmington, CT-06085',\n",
       "  'CO': '0'},\n",
       " '10059': {'NM': 'Rick Lopes',\n",
       "  'LN': 'Lopes',\n",
       "  'FN': 'Rick',\n",
       "  'MN': '',\n",
       "  'P': '1',\n",
       "  'AD': '208 S. Mountain Drive, New Britain, CT-06052',\n",
       "  'CO': '0'},\n",
       " '10060': {'NM': 'Rick Lopes',\n",
       "  'LN': 'Lopes',\n",
       "  'FN': 'Rick',\n",
       "  'MN': '',\n",
       "  'P': '12',\n",
       "  'AD': '208 S. Mountain Drive, New Britain, CT-06052',\n",
       "  'CO': '0'},\n",
       " '10061': {'NM': 'Gennaro Bizzarro',\n",
       "  'LN': 'Bizzarro',\n",
       "  'FN': 'Gennaro',\n",
       "  'MN': '',\n",
       "  'P': '6',\n",
       "  'AD': '440 Shuttle Meadow Avenue, New Britain, CT-06052',\n",
       "  'CO': '0'},\n",
       " '10062': {'NM': 'Anthony L. Nolan',\n",
       "  'LN': 'Nolan',\n",
       "  'FN': 'Anthony',\n",
       "  'MN': 'L',\n",
       "  'P': '1',\n",
       "  'AD': '105 Blackhall Street, New London, CT',\n",
       "  'CO': '0'},\n",
       " '10063': {'NM': 'Kat Goulart',\n",
       "  'LN': 'Goulart',\n",
       "  'FN': 'Kat',\n",
       "  'MN': '',\n",
       "  'P': '6',\n",
       "  'AD': '54 Dow Street, New London, CT-06320',\n",
       "  'CO': '0'},\n",
       " '10064': {'NM': 'Mirna Martinez',\n",
       "  'LN': 'Martinez',\n",
       "  'FN': 'Mirna',\n",
       "  'MN': '',\n",
       "  'P': '7',\n",
       "  'AD': '19 Prospect Street, New London, CT-06320',\n",
       "  'CO': '0'},\n",
       " '10065': {'NM': 'Kat Goulart',\n",
       "  'LN': 'Goulart',\n",
       "  'FN': 'Kat',\n",
       "  'MN': '',\n",
       "  'P': '3',\n",
       "  'AD': '54 Dow Street, New London, CT-06320',\n",
       "  'CO': '0'},\n",
       " '10066': {'NM': 'Jason L. Catala',\n",
       "  'LN': 'Catala',\n",
       "  'FN': 'Jason',\n",
       "  'MN': 'L.',\n",
       "  'P': '15',\n",
       "  'AD': '476 Ocean Avenue, New London, CT-06320',\n",
       "  'CO': '0'},\n",
       " '10067': {'NM': 'Josh Balter',\n",
       "  'LN': 'Balter',\n",
       "  'FN': 'Josh',\n",
       "  'MN': '',\n",
       "  'P': '1',\n",
       "  'AD': '35 Red Bluff Road, East Haven, CT-06513',\n",
       "  'CO': '0'},\n",
       " '10068': {'NM': 'Josh Balter',\n",
       "  'LN': 'Balter',\n",
       "  'FN': 'Josh',\n",
       "  'MN': '',\n",
       "  'P': '12',\n",
       "  'AD': '35 Red Bluff Road, East Haven, CT-06513',\n",
       "  'CO': '0'},\n",
       " '10069': {'NM': 'Joseph Zullo',\n",
       "  'LN': 'Zullo',\n",
       "  'FN': 'Joseph',\n",
       "  'MN': '',\n",
       "  'P': '6',\n",
       "  'AD': '2 Lisa Lane, East Haven, CT-06512',\n",
       "  'CO': '0'},\n",
       " '10070': {'NM': 'Joseph Zullo',\n",
       "  'LN': 'Zullo',\n",
       "  'FN': 'Joseph',\n",
       "  'MN': '',\n",
       "  'P': '3',\n",
       "  'AD': '2 Lisa Lane, East Haven, CT-06512',\n",
       "  'CO': '0'},\n",
       " '10071': {'NM': 'Mark Stewart Greenstein',\n",
       "  'LN': 'Greenstein',\n",
       "  'FN': 'Mark',\n",
       "  'MN': 'Stewart',\n",
       "  'P': '1046',\n",
       "  'AD': '381 South Main Street, West Hartford, CT-06107',\n",
       "  'CO': '0'}}"
      ]
     },
     "execution_count": 12,
     "metadata": {},
     "output_type": "execute_result"
    }
   ],
   "source": [
    "general_2018[\"lookup_data\"][\"candidateIds\"]"
   ]
  },
  {
   "cell_type": "code",
   "execution_count": 14,
   "metadata": {},
   "outputs": [],
   "source": [
    "def get_candidate(e_data, candidate_id):\n",
    "    \n",
    "    return e_data[\"lookup_data\"][\"candidateIds\"][candidate_id]\n",
    "\n",
    "def get_candidate_party_name(e_data, candidate_id):\n",
    "    \n",
    "    return get_party_name(e_data, get_candidate(e_data, candidate_id)[\"P\"])\n",
    "\n",
    "def get_candidate_name(e_data, candidate_id):\n",
    "    \n",
    "    return get_candidate(e_data, candidate_id)[\"NM\"]\n",
    "\n",
    "# print (get_candidate_party_name(general_2018,'8701'))\n",
    "# print (get_candidate_name(general_2018, '8701'))"
   ]
  },
  {
   "cell_type": "code",
   "execution_count": 15,
   "metadata": {},
   "outputs": [
    {
     "data": {
      "text/plain": [
       "[{'3414': {'ID': '3414',\n",
       "   'NM': 'State Senator to Fill a Vacancy 3',\n",
       "   'OT': 'S',\n",
       "   'OO': '1',\n",
       "   'DT': 'Connecticut 03',\n",
       "   'D': '3'}},\n",
       " {'3415': {'ID': '3415',\n",
       "   'NM': 'State Senator to Fill a Vacancy 5',\n",
       "   'OT': 'S',\n",
       "   'OO': '2',\n",
       "   'DT': 'Connecticut 05',\n",
       "   'D': '5'}},\n",
       " {'3416': {'ID': '3416',\n",
       "   'NM': 'State Senator to Fill a Vacancy 6',\n",
       "   'OT': 'S',\n",
       "   'OO': '3',\n",
       "   'DT': 'Connecticut 06',\n",
       "   'D': '6'}},\n",
       " {'3413': {'ID': '3413',\n",
       "   'NM': 'State Representative to Fill a Vacancy 39',\n",
       "   'OT': 'A',\n",
       "   'OO': '4',\n",
       "   'DT': 'Connecticut 39',\n",
       "   'D': '39'}},\n",
       " {'3412': {'ID': '3412',\n",
       "   'NM': 'State Representative to Fill a Vacancy 99',\n",
       "   'OT': 'A',\n",
       "   'OO': '5',\n",
       "   'DT': 'Connecticut 99',\n",
       "   'D': '99'}}]"
      ]
     },
     "execution_count": 15,
     "metadata": {},
     "output_type": "execute_result"
    }
   ],
   "source": [
    "general_2018[\"lookup_data\"][\"officeList\"]"
   ]
  },
  {
   "cell_type": "code",
   "execution_count": 16,
   "metadata": {},
   "outputs": [
    {
     "data": {
      "text/plain": [
       "'2901'"
      ]
     },
     "execution_count": 16,
     "metadata": {},
     "output_type": "execute_result"
    }
   ],
   "source": [
    "list({'2901': {'ID': '2901',\n",
    "   'NM': 'Governor and Lieutenant Governor',\n",
    "   'OT': 'SW',\n",
    "   'OO': '1',\n",
    "   'DT': '',\n",
    "   'D': '0'}}.keys())[0]"
   ]
  },
  {
   "cell_type": "code",
   "execution_count": 17,
   "metadata": {},
   "outputs": [
    {
     "data": {
      "text/plain": [
       "[]"
      ]
     },
     "execution_count": 17,
     "metadata": {},
     "output_type": "execute_result"
    }
   ],
   "source": [
    "def findobj(obj_arr, k):\n",
    "    return list(filter(lambda x: list(x.keys())[0] == k,obj_arr))\n",
    "\n",
    "findobj(general_2018[\"lookup_data\"][\"officeList\"], '2901')"
   ]
  },
  {
   "cell_type": "code",
   "execution_count": 18,
   "metadata": {},
   "outputs": [
    {
     "data": {
      "text/plain": [
       "{'3414': {'ID': '3414',\n",
       "  'NM': 'State Senator to Fill a Vacancy 3',\n",
       "  'OT': 'S',\n",
       "  'OO': '1',\n",
       "  'DT': 'Connecticut 03',\n",
       "  'D': '3'},\n",
       " '3415': {'ID': '3415',\n",
       "  'NM': 'State Senator to Fill a Vacancy 5',\n",
       "  'OT': 'S',\n",
       "  'OO': '2',\n",
       "  'DT': 'Connecticut 05',\n",
       "  'D': '5'},\n",
       " '3416': {'ID': '3416',\n",
       "  'NM': 'State Senator to Fill a Vacancy 6',\n",
       "  'OT': 'S',\n",
       "  'OO': '3',\n",
       "  'DT': 'Connecticut 06',\n",
       "  'D': '6'},\n",
       " '3413': {'ID': '3413',\n",
       "  'NM': 'State Representative to Fill a Vacancy 39',\n",
       "  'OT': 'A',\n",
       "  'OO': '4',\n",
       "  'DT': 'Connecticut 39',\n",
       "  'D': '39'},\n",
       " '3412': {'ID': '3412',\n",
       "  'NM': 'State Representative to Fill a Vacancy 99',\n",
       "  'OT': 'A',\n",
       "  'OO': '5',\n",
       "  'DT': 'Connecticut 99',\n",
       "  'D': '99'}}"
      ]
     },
     "execution_count": 18,
     "metadata": {},
     "output_type": "execute_result"
    }
   ],
   "source": [
    "def dictify(obj):\n",
    "    ret = {}\n",
    "    \n",
    "    keys = list(map(lambda x: list(x.keys())[0], obj))\n",
    "    \n",
    "    for k in keys:\n",
    "        ret[k] = findobj(obj, k)[0][k]\n",
    "    \n",
    "    return ret\n",
    "\n",
    "dictify(general_2018[\"lookup_data\"][\"officeList\"])"
   ]
  },
  {
   "cell_type": "code",
   "execution_count": 21,
   "metadata": {},
   "outputs": [],
   "source": [
    "\n",
    "def get_office(e_data, office_id):\n",
    "    \n",
    "    ck = \"office_id:%s\" % office_id\n",
    "    cv = get_cache_val(e_data, ck)\n",
    "    if cv is not None: return cv\n",
    "\n",
    "    ret = dictify(e_data[\"lookup_data\"][\"officeList\"])[str(office_id)]\n",
    "    \n",
    "    set_cache_val(e_data, ck, ret)\n",
    "    \n",
    "    return ret\n",
    "\n",
    "# get_office(general_2018, '2901')"
   ]
  },
  {
   "cell_type": "code",
   "execution_count": 22,
   "metadata": {},
   "outputs": [
    {
     "data": {
      "text/plain": [
       "{'3412': [{'10067': {'V': '1324', 'TO': '43.18%'}},\n",
       "  {'10069': {'V': '1577', 'TO': '51.44%'}},\n",
       "  {'10068': {'V': '84', 'TO': '2.74%'}},\n",
       "  {'10070': {'V': '81', 'TO': '2.64%'}}],\n",
       " '3413': [{'10062': {'V': '963', 'TO': '51.33%'}},\n",
       "  {'10063': {'V': '219', 'TO': '11.67%'}},\n",
       "  {'10065': {'V': '57', 'TO': '3.04%'}},\n",
       "  {'10064': {'V': '535', 'TO': '28.52%'}},\n",
       "  {'10066': {'V': '102', 'TO': '5.44%'}}],\n",
       " '3414': [{'10054': {'V': '4737', 'TO': '58.82%'}},\n",
       "  {'10055': {'V': '3317', 'TO': '41.18%'}}],\n",
       " '3415': [{'10056': {'V': '6063', 'TO': '63.26%'}},\n",
       "  {'10057': {'V': '3284', 'TO': '34.27%'}},\n",
       "  {'10058': {'V': '186', 'TO': '1.94%'}},\n",
       "  {'10071': {'V': '51', 'TO': '0.53%'}}],\n",
       " '3416': [{'10059': {'V': '3190', 'TO': '43.61%'}},\n",
       "  {'10061': {'V': '3884', 'TO': '53.10%'}},\n",
       "  {'10060': {'V': '241', 'TO': '3.29%'}}]}"
      ]
     },
     "execution_count": 22,
     "metadata": {},
     "output_type": "execute_result"
    }
   ],
   "source": [
    "general_2018[\"election_data\"][\"stateVotes\"]"
   ]
  },
  {
   "cell_type": "code",
   "execution_count": null,
   "metadata": {},
   "outputs": [],
   "source": []
  },
  {
   "cell_type": "code",
   "execution_count": 24,
   "metadata": {},
   "outputs": [],
   "source": [
    "def get_contest_table(edata, contest_id):\n",
    "    \n",
    "    ret = pd.DataFrame.from_dict(\n",
    "        dictify(edata[\"election_data\"][\"stateVotes\"][contest_id]),\n",
    "        orient=\"index\")\n",
    "    \n",
    "    ret[\"stateVotesId\"] = contest_id\n",
    "    \n",
    "    return ret\n",
    "\n",
    "# get_contest_table(general_2018, '2879')"
   ]
  },
  {
   "cell_type": "code",
   "execution_count": null,
   "metadata": {},
   "outputs": [],
   "source": []
  },
  {
   "cell_type": "code",
   "execution_count": 25,
   "metadata": {},
   "outputs": [],
   "source": [
    "# Make a spreadsheet!\n",
    "def make_sheet(e_data):\n",
    "\n",
    "    \"\"\" Make a row for each candidate that includes:\n",
    "            name\n",
    "            office\n",
    "            district\n",
    "            total votes\n",
    "            party\n",
    "    \"\"\"\n",
    "    \n",
    "    # each of these will get its own dataframe\n",
    "    # with a candidate, party, votes, and pct\n",
    "    stateVotes = e_data[\"election_data\"][\"stateVotes\"]\n",
    "    \n",
    "    ret = pd.concat(list(map(lambda x: get_contest_table(e_data, x), \n",
    "                      list(stateVotes.keys()))))\n",
    "    \n",
    "    def get_cand_party_name_wrapper(x):\n",
    "        return get_candidate_party_name(e_data, x)\n",
    "    \n",
    "    def make_row(e_data, row):\n",
    "        row[\"candidate\"] = get_candidate_name(e_data, row[\"index\"])\n",
    "        row[\"party\"] = get_candidate_party_name(e_data, row[\"index\"])\n",
    "        row[\"office\"] = get_office(e_data, row[\"stateVotesId\"])[\"NM\"]\n",
    "        row[\"district\"] = get_office(e_data, row[\"stateVotesId\"])[\"D\"]\n",
    "        return row\n",
    "\n",
    "    ret = ret.reset_index().apply(lambda x: make_row(e_data, x), axis=1)\n",
    "\n",
    "    ret[\"electionID\"] = e_data[\"lookup_data\"][\"election\"][\"ID\"]\n",
    "    ret[\"electionDescription\"] = e_data[\"lookup_data\"][\"election\"][\"DNM\"]\n",
    "    ret[\"electionDate\"] = e_data[\"lookup_data\"][\"election\"][\"DT\"]\n",
    "    \n",
    "    return ret\n",
    "\n",
    "\n",
    "#general_2018_sheet = make_sheet(get_election_data(31))\n",
    "general_2018_sheet = make_sheet(general_2018)\n"
   ]
  },
  {
   "cell_type": "code",
   "execution_count": 26,
   "metadata": {},
   "outputs": [
    {
     "data": {
      "text/html": [
       "<div>\n",
       "<style scoped>\n",
       "    .dataframe tbody tr th:only-of-type {\n",
       "        vertical-align: middle;\n",
       "    }\n",
       "\n",
       "    .dataframe tbody tr th {\n",
       "        vertical-align: top;\n",
       "    }\n",
       "\n",
       "    .dataframe thead th {\n",
       "        text-align: right;\n",
       "    }\n",
       "</style>\n",
       "<table border=\"1\" class=\"dataframe\">\n",
       "  <thead>\n",
       "    <tr style=\"text-align: right;\">\n",
       "      <th></th>\n",
       "      <th>index</th>\n",
       "      <th>V</th>\n",
       "      <th>TO</th>\n",
       "      <th>stateVotesId</th>\n",
       "      <th>candidate</th>\n",
       "      <th>party</th>\n",
       "      <th>office</th>\n",
       "      <th>district</th>\n",
       "      <th>electionID</th>\n",
       "      <th>electionDescription</th>\n",
       "      <th>electionDate</th>\n",
       "    </tr>\n",
       "  </thead>\n",
       "  <tbody>\n",
       "    <tr>\n",
       "      <th>0</th>\n",
       "      <td>10067</td>\n",
       "      <td>1324</td>\n",
       "      <td>43.18%</td>\n",
       "      <td>3412</td>\n",
       "      <td>Josh Balter</td>\n",
       "      <td>Democratic Party</td>\n",
       "      <td>State Representative to Fill a Vacancy 99</td>\n",
       "      <td>99</td>\n",
       "      <td>35</td>\n",
       "      <td>Special Election 3rd,5th &amp;6th Senatorial - 39t...</td>\n",
       "      <td>02/26/2019</td>\n",
       "    </tr>\n",
       "    <tr>\n",
       "      <th>1</th>\n",
       "      <td>10068</td>\n",
       "      <td>84</td>\n",
       "      <td>2.74%</td>\n",
       "      <td>3412</td>\n",
       "      <td>Josh Balter</td>\n",
       "      <td>Working Families Party</td>\n",
       "      <td>State Representative to Fill a Vacancy 99</td>\n",
       "      <td>99</td>\n",
       "      <td>35</td>\n",
       "      <td>Special Election 3rd,5th &amp;6th Senatorial - 39t...</td>\n",
       "      <td>02/26/2019</td>\n",
       "    </tr>\n",
       "    <tr>\n",
       "      <th>2</th>\n",
       "      <td>10069</td>\n",
       "      <td>1577</td>\n",
       "      <td>51.44%</td>\n",
       "      <td>3412</td>\n",
       "      <td>Joseph Zullo</td>\n",
       "      <td>Republican Party</td>\n",
       "      <td>State Representative to Fill a Vacancy 99</td>\n",
       "      <td>99</td>\n",
       "      <td>35</td>\n",
       "      <td>Special Election 3rd,5th &amp;6th Senatorial - 39t...</td>\n",
       "      <td>02/26/2019</td>\n",
       "    </tr>\n",
       "    <tr>\n",
       "      <th>3</th>\n",
       "      <td>10070</td>\n",
       "      <td>81</td>\n",
       "      <td>2.64%</td>\n",
       "      <td>3412</td>\n",
       "      <td>Joseph Zullo</td>\n",
       "      <td>Independent Party</td>\n",
       "      <td>State Representative to Fill a Vacancy 99</td>\n",
       "      <td>99</td>\n",
       "      <td>35</td>\n",
       "      <td>Special Election 3rd,5th &amp;6th Senatorial - 39t...</td>\n",
       "      <td>02/26/2019</td>\n",
       "    </tr>\n",
       "    <tr>\n",
       "      <th>4</th>\n",
       "      <td>10062</td>\n",
       "      <td>963</td>\n",
       "      <td>51.33%</td>\n",
       "      <td>3413</td>\n",
       "      <td>Anthony L. Nolan</td>\n",
       "      <td>Democratic Party</td>\n",
       "      <td>State Representative to Fill a Vacancy 39</td>\n",
       "      <td>39</td>\n",
       "      <td>35</td>\n",
       "      <td>Special Election 3rd,5th &amp;6th Senatorial - 39t...</td>\n",
       "      <td>02/26/2019</td>\n",
       "    </tr>\n",
       "  </tbody>\n",
       "</table>\n",
       "</div>"
      ],
      "text/plain": [
       "   index     V      TO stateVotesId         candidate                   party  \\\n",
       "0  10067  1324  43.18%         3412       Josh Balter        Democratic Party   \n",
       "1  10068    84   2.74%         3412       Josh Balter  Working Families Party   \n",
       "2  10069  1577  51.44%         3412      Joseph Zullo        Republican Party   \n",
       "3  10070    81   2.64%         3412      Joseph Zullo       Independent Party   \n",
       "4  10062   963  51.33%         3413  Anthony L. Nolan        Democratic Party   \n",
       "\n",
       "                                      office district electionID  \\\n",
       "0  State Representative to Fill a Vacancy 99       99         35   \n",
       "1  State Representative to Fill a Vacancy 99       99         35   \n",
       "2  State Representative to Fill a Vacancy 99       99         35   \n",
       "3  State Representative to Fill a Vacancy 99       99         35   \n",
       "4  State Representative to Fill a Vacancy 39       39         35   \n",
       "\n",
       "                                 electionDescription electionDate  \n",
       "0  Special Election 3rd,5th &6th Senatorial - 39t...   02/26/2019  \n",
       "1  Special Election 3rd,5th &6th Senatorial - 39t...   02/26/2019  \n",
       "2  Special Election 3rd,5th &6th Senatorial - 39t...   02/26/2019  \n",
       "3  Special Election 3rd,5th &6th Senatorial - 39t...   02/26/2019  \n",
       "4  Special Election 3rd,5th &6th Senatorial - 39t...   02/26/2019  "
      ]
     },
     "execution_count": 26,
     "metadata": {},
     "output_type": "execute_result"
    }
   ],
   "source": [
    "general_2018_sheet.head()"
   ]
  },
  {
   "cell_type": "code",
   "execution_count": 27,
   "metadata": {},
   "outputs": [],
   "source": [
    "# Make separate spreadsheets"
   ]
  },
  {
   "cell_type": "code",
   "execution_count": 28,
   "metadata": {},
   "outputs": [],
   "source": [
    "import re\n",
    "def fname(election_id, office, district):\n",
    "    ret = [election_id, re.sub(\"\\W\", \"-\", office.strip().lower())]\n",
    "    if district is not None:\n",
    "        ret[1] += \"-%s\" % district.strip().lower()\n",
    "    return \"%s.csv\" % \"/\".join(ret)"
   ]
  },
  {
   "cell_type": "code",
   "execution_count": 30,
   "metadata": {},
   "outputs": [],
   "source": [
    "def get_subsheet(election_sheet, stateVotesId):\n",
    "    subframe = election_sheet[election_sheet[\"stateVotesId\"] == str(stateVotesId)]\n",
    "    \n",
    "    assert len(subframe[\"office\"].unique()) == 1\n",
    "    assert len(subframe[\"district\"].unique()) == 1\n",
    "\n",
    "    office = list(subframe[\"office\"].unique())[0]\n",
    "    district = list(subframe[\"district\"].unique())[0]\n",
    "    \n",
    "    return {\n",
    "        \"df\":subframe,\n",
    "        \"office\":office,\n",
    "        \"district\":district,\n",
    "        \"fname\":fname(election_sheet[\"electionID\"].unique()[0], office, district)\n",
    "    }\n",
    "\n",
    "# get_subsheet(general_2018_sheet, \"2879\")\n"
   ]
  },
  {
   "cell_type": "code",
   "execution_count": 31,
   "metadata": {},
   "outputs": [],
   "source": [
    "!mkdir -p \"out\""
   ]
  },
  {
   "cell_type": "code",
   "execution_count": 32,
   "metadata": {},
   "outputs": [
    {
     "data": {
      "text/html": [
       "<div>\n",
       "<style scoped>\n",
       "    .dataframe tbody tr th:only-of-type {\n",
       "        vertical-align: middle;\n",
       "    }\n",
       "\n",
       "    .dataframe tbody tr th {\n",
       "        vertical-align: top;\n",
       "    }\n",
       "\n",
       "    .dataframe thead th {\n",
       "        text-align: right;\n",
       "    }\n",
       "</style>\n",
       "<table border=\"1\" class=\"dataframe\">\n",
       "  <thead>\n",
       "    <tr style=\"text-align: right;\">\n",
       "      <th></th>\n",
       "      <th>index</th>\n",
       "      <th>V</th>\n",
       "      <th>TO</th>\n",
       "      <th>stateVotesId</th>\n",
       "      <th>candidate</th>\n",
       "      <th>party</th>\n",
       "      <th>office</th>\n",
       "      <th>district</th>\n",
       "      <th>electionID</th>\n",
       "      <th>electionDescription</th>\n",
       "      <th>electionDate</th>\n",
       "    </tr>\n",
       "  </thead>\n",
       "  <tbody>\n",
       "    <tr>\n",
       "      <th>0</th>\n",
       "      <td>10067</td>\n",
       "      <td>1324</td>\n",
       "      <td>43.18%</td>\n",
       "      <td>3412</td>\n",
       "      <td>Josh Balter</td>\n",
       "      <td>Democratic Party</td>\n",
       "      <td>State Representative to Fill a Vacancy 99</td>\n",
       "      <td>99</td>\n",
       "      <td>35</td>\n",
       "      <td>Special Election 3rd,5th &amp;6th Senatorial - 39t...</td>\n",
       "      <td>02/26/2019</td>\n",
       "    </tr>\n",
       "    <tr>\n",
       "      <th>1</th>\n",
       "      <td>10068</td>\n",
       "      <td>84</td>\n",
       "      <td>2.74%</td>\n",
       "      <td>3412</td>\n",
       "      <td>Josh Balter</td>\n",
       "      <td>Working Families Party</td>\n",
       "      <td>State Representative to Fill a Vacancy 99</td>\n",
       "      <td>99</td>\n",
       "      <td>35</td>\n",
       "      <td>Special Election 3rd,5th &amp;6th Senatorial - 39t...</td>\n",
       "      <td>02/26/2019</td>\n",
       "    </tr>\n",
       "    <tr>\n",
       "      <th>2</th>\n",
       "      <td>10069</td>\n",
       "      <td>1577</td>\n",
       "      <td>51.44%</td>\n",
       "      <td>3412</td>\n",
       "      <td>Joseph Zullo</td>\n",
       "      <td>Republican Party</td>\n",
       "      <td>State Representative to Fill a Vacancy 99</td>\n",
       "      <td>99</td>\n",
       "      <td>35</td>\n",
       "      <td>Special Election 3rd,5th &amp;6th Senatorial - 39t...</td>\n",
       "      <td>02/26/2019</td>\n",
       "    </tr>\n",
       "    <tr>\n",
       "      <th>3</th>\n",
       "      <td>10070</td>\n",
       "      <td>81</td>\n",
       "      <td>2.64%</td>\n",
       "      <td>3412</td>\n",
       "      <td>Joseph Zullo</td>\n",
       "      <td>Independent Party</td>\n",
       "      <td>State Representative to Fill a Vacancy 99</td>\n",
       "      <td>99</td>\n",
       "      <td>35</td>\n",
       "      <td>Special Election 3rd,5th &amp;6th Senatorial - 39t...</td>\n",
       "      <td>02/26/2019</td>\n",
       "    </tr>\n",
       "    <tr>\n",
       "      <th>4</th>\n",
       "      <td>10062</td>\n",
       "      <td>963</td>\n",
       "      <td>51.33%</td>\n",
       "      <td>3413</td>\n",
       "      <td>Anthony L. Nolan</td>\n",
       "      <td>Democratic Party</td>\n",
       "      <td>State Representative to Fill a Vacancy 39</td>\n",
       "      <td>39</td>\n",
       "      <td>35</td>\n",
       "      <td>Special Election 3rd,5th &amp;6th Senatorial - 39t...</td>\n",
       "      <td>02/26/2019</td>\n",
       "    </tr>\n",
       "  </tbody>\n",
       "</table>\n",
       "</div>"
      ],
      "text/plain": [
       "   index     V      TO stateVotesId         candidate                   party  \\\n",
       "0  10067  1324  43.18%         3412       Josh Balter        Democratic Party   \n",
       "1  10068    84   2.74%         3412       Josh Balter  Working Families Party   \n",
       "2  10069  1577  51.44%         3412      Joseph Zullo        Republican Party   \n",
       "3  10070    81   2.64%         3412      Joseph Zullo       Independent Party   \n",
       "4  10062   963  51.33%         3413  Anthony L. Nolan        Democratic Party   \n",
       "\n",
       "                                      office district electionID  \\\n",
       "0  State Representative to Fill a Vacancy 99       99         35   \n",
       "1  State Representative to Fill a Vacancy 99       99         35   \n",
       "2  State Representative to Fill a Vacancy 99       99         35   \n",
       "3  State Representative to Fill a Vacancy 99       99         35   \n",
       "4  State Representative to Fill a Vacancy 39       39         35   \n",
       "\n",
       "                                 electionDescription electionDate  \n",
       "0  Special Election 3rd,5th &6th Senatorial - 39t...   02/26/2019  \n",
       "1  Special Election 3rd,5th &6th Senatorial - 39t...   02/26/2019  \n",
       "2  Special Election 3rd,5th &6th Senatorial - 39t...   02/26/2019  \n",
       "3  Special Election 3rd,5th &6th Senatorial - 39t...   02/26/2019  \n",
       "4  Special Election 3rd,5th &6th Senatorial - 39t...   02/26/2019  "
      ]
     },
     "execution_count": 32,
     "metadata": {},
     "output_type": "execute_result"
    }
   ],
   "source": [
    "general_2018_sheet.head()"
   ]
  },
  {
   "cell_type": "code",
   "execution_count": 33,
   "metadata": {},
   "outputs": [
    {
     "data": {
      "text/plain": [
       "('out/registrar-of-voters', '0.csv')"
      ]
     },
     "execution_count": 33,
     "metadata": {},
     "output_type": "execute_result"
    }
   ],
   "source": [
    "os.path.split('out/registrar-of-voters/0.csv')"
   ]
  },
  {
   "cell_type": "code",
   "execution_count": 34,
   "metadata": {},
   "outputs": [],
   "source": [
    "import subprocess\n",
    "\n",
    "for voteId in general_2018_sheet[\"stateVotesId\"].unique().tolist():\n",
    "    sub = get_subsheet(general_2018_sheet, voteId)\n",
    "    dst = os.path.join(\"out\", sub[\"fname\"])\n",
    "    subprocess.call([\"mkdir\",\"-p\", os.path.split(dst)[0]])\n",
    "    sub[\"df\"].to_csv(dst)"
   ]
  },
  {
   "cell_type": "code",
   "execution_count": 35,
   "metadata": {},
   "outputs": [
    {
     "data": {
      "text/plain": [
       "{'df':     index     V      TO stateVotesId         candidate  \\\n",
       " 15  10059  3190  43.61%         3416        Rick Lopes   \n",
       " 16  10060   241   3.29%         3416        Rick Lopes   \n",
       " 17  10061  3884  53.10%         3416  Gennaro Bizzarro   \n",
       " \n",
       "                      party                             office district  \\\n",
       " 15        Democratic Party  State Senator to Fill a Vacancy 6        6   \n",
       " 16  Working Families Party  State Senator to Fill a Vacancy 6        6   \n",
       " 17        Republican Party  State Senator to Fill a Vacancy 6        6   \n",
       " \n",
       "    electionID                                electionDescription electionDate  \n",
       " 15         35  Special Election 3rd,5th &6th Senatorial - 39t...   02/26/2019  \n",
       " 16         35  Special Election 3rd,5th &6th Senatorial - 39t...   02/26/2019  \n",
       " 17         35  Special Election 3rd,5th &6th Senatorial - 39t...   02/26/2019  ,\n",
       " 'office': 'State Senator to Fill a Vacancy 6',\n",
       " 'district': '6',\n",
       " 'fname': '35/state-senator-to-fill-a-vacancy-6-6.csv'}"
      ]
     },
     "execution_count": 35,
     "metadata": {},
     "output_type": "execute_result"
    }
   ],
   "source": [
    "sub"
   ]
  },
  {
   "cell_type": "code",
   "execution_count": 36,
   "metadata": {},
   "outputs": [
    {
     "name": "stdout",
     "output_type": "stream",
     "text": [
      "upload: out/.DS_Store to s3://polguide-election-results/.DS_Store\n",
      "upload: out/35/state-representative-to-fill-a-vacancy-39-39.csv to s3://polguide-election-results/35/state-representative-to-fill-a-vacancy-39-39.csv\n",
      "upload: out/35/state-senator-to-fill-a-vacancy-5-5.csv to s3://polguide-election-results/35/state-senator-to-fill-a-vacancy-5-5.csv\n",
      "upload: out/35/state-representative-to-fill-a-vacancy-99-99.csv to s3://polguide-election-results/35/state-representative-to-fill-a-vacancy-99-99.csv\n",
      "upload: out/35/state-senator-to-fill-a-vacancy-3-3.csv to s3://polguide-election-results/35/state-senator-to-fill-a-vacancy-3-3.csv\n",
      "upload: out/35/state-senator-to-fill-a-vacancy-6-6.csv to s3://polguide-election-results/35/state-senator-to-fill-a-vacancy-6-6.csv\n"
     ]
    }
   ],
   "source": [
    "!AWS_PROFILE=political-guide aws s3 sync out s3://polguide-election-results"
   ]
  },
  {
   "cell_type": "code",
   "execution_count": null,
   "metadata": {},
   "outputs": [],
   "source": [
    "\n"
   ]
  },
  {
   "cell_type": "code",
   "execution_count": null,
   "metadata": {},
   "outputs": [],
   "source": []
  },
  {
   "cell_type": "code",
   "execution_count": null,
   "metadata": {},
   "outputs": [],
   "source": []
  },
  {
   "cell_type": "code",
   "execution_count": null,
   "metadata": {},
   "outputs": [],
   "source": []
  },
  {
   "cell_type": "code",
   "execution_count": null,
   "metadata": {},
   "outputs": [],
   "source": []
  }
 ],
 "metadata": {
  "kernelspec": {
   "display_name": "Python 3",
   "language": "python",
   "name": "python3"
  },
  "language_info": {
   "codemirror_mode": {
    "name": "ipython",
    "version": 3
   },
   "file_extension": ".py",
   "mimetype": "text/x-python",
   "name": "python",
   "nbconvert_exporter": "python",
   "pygments_lexer": "ipython3",
   "version": "3.7.2"
  }
 },
 "nbformat": 4,
 "nbformat_minor": 2
}
